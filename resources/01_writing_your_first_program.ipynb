{
 "cells": [
  {
   "cell_type": "markdown",
   "metadata": {},
   "source": [
    "# Welcome to Python Programming\n",
    "\n",
    "Python is a powerful, readable programming language. It is simple and clear, making it perfect for beginners."
   ]
  },
  {
   "cell_type": "markdown",
   "metadata": {},
   "source": [
    "## Python Programming Language\n",
    "\n",
    "Python is a **high-level**, **interpreted** language. High-level means it is easy to read and write. Interpreted means that you can run the code as soon as you write it, which is great for learning."
   ]
  },
  {
   "cell_type": "markdown",
   "metadata": {},
   "source": [
    "## Python's Simple Syntax\n",
    "\n",
    "The syntax in Python is straightforward and often resembles English language. For example, to display text, we use the `print()` function."
   ]
  },
  {
   "cell_type": "markdown",
   "metadata": {},
   "source": [
    "### What is the `print()` function?\n",
    "\n",
    "The `print()` function in Python shows the text or numbers on the screen. It is how we can send messages to someone using the program."
   ]
  },
  {
   "cell_type": "markdown",
   "metadata": {},
   "source": [
    "### Parenthesis around the text\n",
    "\n",
    "We use parenthesis `()` to tell Python we want to use the `print()` function. Inside the parenthesis, we put the text we want to show."
   ]
  },
  {
   "cell_type": "markdown",
   "metadata": {},
   "source": [
    "## Quotation Marks (String Data Type)\n",
    "\n",
    "Text in Python is called a **string**. We put our text inside quotation marks so Python knows where the text begins and ends. We can use single `'` or double `\"` quotation marks.\n",
    "\n",
    "Here is an example:"
   ]
  },
  {
   "cell_type": "code",
   "execution_count": null,
   "metadata": {},
   "outputs": [],
   "source": [
    "# Example of using print function\n",
    "print(\"Welcome to the Python Bootcamp!\")"
   ]
  },
  {
   "cell_type": "markdown",
   "metadata": {},
   "source": [
    "In this example, \"Welcome to the Python Bootcamp!\" is a string. Python prints it to the screen exactly."
   ]
  },
  {
   "cell_type": "markdown",
   "metadata": {},
   "source": [
    "### Printing numbers without quotation marks\n",
    "\n",
    "When we are dealing with numbers and we want to print them out, we do not need to use quotation marks. Python recognises numbers without them."
   ]
  },
  {
   "cell_type": "code",
   "execution_count": null,
   "metadata": {},
   "outputs": [],
   "source": [
    "# Example of printing numbers without quotation marks\n",
    "print(123)"
   ]
  },
  {
   "cell_type": "markdown",
   "metadata": {},
   "source": [
    "Let's try it. Write your first Python line below:"
   ]
  },
  {
   "cell_type": "code",
   "execution_count": null,
   "metadata": {},
   "outputs": [],
   "source": [
    "# Write your print statement below\n",
    "print(\"Your text here\")"
   ]
  },
  {
   "cell_type": "markdown",
   "metadata": {},
   "source": [
    "Replace `\"Your text here\"` with any text you want to see printed. Remember to keep the text inside the quotation marks!\n",
    "\n",
    "Now, you can run the code to see your message!"
   ]
  },
  {
   "cell_type": "markdown",
   "metadata": {},
   "source": [
    "Congratulations! You've just written your first Python command."
   ]
  },
  {
   "cell_type": "markdown",
   "metadata": {},
   "source": [
    "## Python Comments\n",
    "\n",
    "**Comments** are lines that Python doesn't run; they start with `#` and explain code. We'll use them to guide you throughout the bootcamp."
   ]
  },
  {
   "cell_type": "code",
   "execution_count": null,
   "metadata": {},
   "outputs": [],
   "source": [
    "# This is a comment to help understand the code below\n",
    "print(\"Hello, World!\")  # Comments can also be inline like this"
   ]
  }
 ],
 "metadata": {
  "kernelspec": {
   "display_name": "Python 3",
   "language": "python",
   "name": "python3"
  },
  "language_info": {
   "codemirror_mode": {
    "name": "ipython",
    "version": 3
   },
   "file_extension": ".py",
   "mimetype": "text/x-python",
   "name": "python",
   "nbconvert_exporter": "python",
   "pygments_lexer": "ipython3",
   "version": "3.12.0"
  }
 },
 "nbformat": 4,
 "nbformat_minor": 2
}
