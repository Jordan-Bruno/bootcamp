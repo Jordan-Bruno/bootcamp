{
 "cells": [
  {
   "cell_type": "markdown",
   "metadata": {},
   "source": [
    "# Variables in Python"
   ]
  },
  {
   "cell_type": "markdown",
   "metadata": {},
   "source": [
    "## Variables in Programming\n",
    "\n",
    "**Variables** in programming are similar to containers that store data. Computers use them to remember values or information. Think of a variable as a box where you can keep something for use later. This box is stored in the computer's **memory**.\n",
    "\n",
    "Here is a simple example:"
   ]
  },
  {
   "cell_type": "code",
   "execution_count": null,
   "metadata": {},
   "outputs": [],
   "source": [
    "greeting = \"Hello, students!\""
   ]
  },
  {
   "cell_type": "markdown",
   "metadata": {},
   "source": [
    "In this line, `greeting` is the variable that now stores the string `\"Hello, students!\"`."
   ]
  },
  {
   "cell_type": "markdown",
   "metadata": {},
   "source": [
    "## How to Create a Variable\n",
    "\n",
    "To create a variable, we just need to choose a name for it and then assign a value to it."
   ]
  },
  {
   "cell_type": "markdown",
   "metadata": {},
   "source": [
    "## The Syntax of a Variable\n",
    "\n",
    "The format to write a variable is:\n",
    "\n",
    "`variable_name = value` \n",
    "\n",
    "Here `variable_name` is the name we give to the variable, the `=` is known as the **assignment operator**, and `value` is the information we want to store.\n",
    "\n",
    "For example:"
   ]
  },
  {
   "cell_type": "code",
   "execution_count": null,
   "metadata": {},
   "outputs": [],
   "source": [
    "age = 28"
   ]
  },
  {
   "cell_type": "markdown",
   "metadata": {},
   "source": [
    "## Importance of Variable Names\n",
    "\n",
    "Although the computer doesn't care about how we name our variables, humans do. Code is often read by humans, so it's important to choose variable names that are clear, concise, and descriptive. This helps others understand what your code is doing.\n",
    "\n",
    "For instance:"
   ]
  },
  {
   "cell_type": "code",
   "execution_count": null,
   "metadata": {},
   "outputs": [],
   "source": [
    "user_age = 28  # Good\n",
    "u = 28         # Not descriptive"
   ]
  },
  {
   "cell_type": "markdown",
   "metadata": {},
   "source": [
    "Choosing good variable names is part of writing clean and maintainable code. It's a habit worth developing from the start."
   ]
  },
  {
   "cell_type": "markdown",
   "metadata": {},
   "source": [
    "## Accessing Variables\n",
    "\n",
    "A variable is created by assigning it a value, the variable can be accessed or **called** by simply typing its name. When a variable is called, Python will replace the variable name with the value it holds.\n",
    "\n",
    "Here is a simple example:"
   ]
  },
  {
   "cell_type": "code",
   "execution_count": null,
   "metadata": {},
   "outputs": [],
   "source": [
    "# Create a variable\n",
    "user_name = \"Alice\"\n",
    "\n",
    "# Access the variable\n",
    "print(user_name)"
   ]
  },
  {
   "cell_type": "markdown",
   "metadata": {},
   "source": [
    "When Python runs `print(user_name)`, it sees that `user_name` is a variable holding the value `\"Alice\"`. It then prints out `Alice`."
   ]
  },
  {
   "cell_type": "markdown",
   "metadata": {},
   "source": [
    "## Reassigning Variables\n",
    "\n",
    "Variables can change their values. This is called reassigning.\n",
    "\n",
    "See below:"
   ]
  },
  {
   "cell_type": "code",
   "execution_count": null,
   "metadata": {},
   "outputs": [],
   "source": [
    "name = \"Alice\"\n",
    "name = \"Bob\" # Now the value of name has changed from 'Alice' to 'Bob'\n",
    "print(name) # Outputs: Bob"
   ]
  },
  {
   "cell_type": "markdown",
   "metadata": {},
   "source": [
    "## Multiple Assignment\n",
    "\n",
    "Python allows assigning multiple variables in a single line.\n",
    "\n",
    "Here is a simple example:"
   ]
  },
  {
   "cell_type": "code",
   "execution_count": null,
   "metadata": {},
   "outputs": [],
   "source": [
    "name, age, location = \"Charlie\", 18, \"Canada\"\n",
    "\n",
    "print(name) # Outputs: Charlie\n",
    "print(age) # Outputs: 18\n",
    "print(location) # Outputs: Canada"
   ]
  },
  {
   "cell_type": "markdown",
   "metadata": {},
   "source": [
    "If we need to assign the same value to multiple variables we can do this by:"
   ]
  },
  {
   "cell_type": "code",
   "execution_count": null,
   "metadata": {},
   "outputs": [],
   "source": [
    "# Assigning the same value to multiple variables\n",
    "alice_location = bob_location = carol_location = \"England\"\n",
    "\n",
    "print(alice_location)\n",
    "print(bob_location)\n",
    "print(carol_location)\n"
   ]
  },
  {
   "cell_type": "markdown",
   "metadata": {},
   "source": [
    "It's important to know that after assignment, the variables are independant of each other, any change made to one of the variables will have no affect on the others.\n"
   ]
  },
  {
   "cell_type": "markdown",
   "metadata": {},
   "source": [
    "## Constants\n",
    "\n",
    "In programming, a constant is a special type of variable whose value should not be changed. Unlike other programming languages, Python doesn't have an actual constant data type, but it's a convention to use uppercase letters to signify that a variable should be treated as a constant and not be changed."
   ]
  },
  {
   "cell_type": "code",
   "execution_count": null,
   "metadata": {},
   "outputs": [],
   "source": [
    "# Using uppercase variable names to indiate it is a constant and should not be changed\n",
    "MAX_CONNECTIONS = 10000\n",
    "PI = 3.14159"
   ]
  },
  {
   "cell_type": "markdown",
   "metadata": {},
   "source": [
    "## Case Sensitivity in Python\n",
    "\n",
    "Python is case-sensitive, which means that variable names with different casing are considered different variables.\n",
    "\n",
    "For example:"
   ]
  },
  {
   "cell_type": "code",
   "execution_count": null,
   "metadata": {},
   "outputs": [],
   "source": [
    "# Case Sensitivity in Python\n",
    "a = 5\n",
    "A = 10\n",
    "\n",
    "print(a)  # Output: 5\n",
    "print(A)  # Output: 10"
   ]
  },
  {
   "cell_type": "markdown",
   "metadata": {},
   "source": [
    "In the code above, `a` and `A` are different variables. Changing the value of `a` does not affect `A` and vice versa."
   ]
  },
  {
   "cell_type": "markdown",
   "metadata": {},
   "source": [
    "## Naming Conventions in Python for Variables\n",
    "\n",
    "### Allowed Names:\n",
    "\n",
    "- Can start with letters (a-z, A-Z) or underscore (_)\n",
    "- Followed by letters, numbers, or underscores\n",
    "\n",
    "### Not Allowed:\n",
    "\n",
    "- Starting with numbers\n",
    "- Containing spaces\n",
    "- Using special symbols like @, #, $, etc.\n",
    "- Using reserved words like `if`, `else`, etc.\n",
    "\n",
    "### Recommended Conventions:\n",
    "\n",
    "- Use lowercase for variable names: `age`, `username`\n",
    "- If a name has multiple words, separate them using underscores: `first_name`, `last_name` this is called to as **snake_case**.\n",
    "- Avoid using just one letter, unless it's common practice for specific operations."
   ]
  }
 ],
 "metadata": {
  "kernelspec": {
   "display_name": "Python 3",
   "language": "python",
   "name": "python3"
  },
  "language_info": {
   "codemirror_mode": {
    "name": "ipython",
    "version": 3
   },
   "file_extension": ".py",
   "mimetype": "text/x-python",
   "name": "python",
   "nbconvert_exporter": "python",
   "pygments_lexer": "ipython3",
   "version": "3.12.0"
  }
 },
 "nbformat": 4,
 "nbformat_minor": 2
}
