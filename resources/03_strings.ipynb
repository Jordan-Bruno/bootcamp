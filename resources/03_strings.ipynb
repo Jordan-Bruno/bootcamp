{
 "cells": [
  {
   "cell_type": "markdown",
   "metadata": {},
   "source": [
    "# Strings in Python\n",
    "\n",
    "Text is a fundamental part of the data we interact with daily. In Python, we manage text using a data type called a string. As you learn programming, it is essential that you understand how to work with strings."
   ]
  },
  {
   "cell_type": "markdown",
   "metadata": {},
   "source": [
    "## String Data Type (Recap)\n",
    "\n",
    "Strings are enclosed in quotation marks. We can use either single (`'`) or double (`\"`) quotes, but they must match at the beginning and end of the string.\n",
    "\n",
    "For example:"
   ]
  },
  {
   "cell_type": "code",
   "execution_count": null,
   "metadata": {},
   "outputs": [],
   "source": [
    "# A string with double quotes\n",
    "greeting = \"Hello, World!\"\n",
    "\n",
    "# A string with single quotes\n",
    "farewell = 'Goodbye, World!'\n",
    "\n",
    "print(greeting)  # Outputs: Hello, World!\n",
    "print(farewell)  # Outputs: Goodbye, World!"
   ]
  },
  {
   "cell_type": "markdown",
   "metadata": {},
   "source": [
    "If we start a string with a double quote, we must also end it with a double quote. The same rule applies to single quotes.\n",
    "\n",
    "Failure to do so will result in a `SyntaxError`.\n",
    "\n",
    "If our string contains one type of quote, we can use the other type to enclose the string.\n",
    "\n",
    "Here is a simple example:"
   ]
  },
  {
   "cell_type": "code",
   "execution_count": null,
   "metadata": {},
   "outputs": [],
   "source": [
    "print(\"The moon is beautiful, isn't it?\") # Using double quotes as string contains '\n",
    "print('She responded, \"I can die happy.\"') # Using single quotes as string contains \""
   ]
  },
  {
   "cell_type": "markdown",
   "metadata": {},
   "source": [
    "### Escape characters\n",
    "\n",
    "**Escape characters** let us include special characters in strings that would otherwise be impossible to include.\n",
    "\n",
    "To use an escape character, we precede it with a backslash (`\\`) followed by the character we want to escape.\n",
    "\n",
    "Here are some common escape characters you may use:\n",
    "\n",
    "| Escape Character | Description                  |\n",
    "|------------------|------------------------------|\n",
    "| `\\\\`             | Backslash                    |\n",
    "| `\\'`             | Single quote                 |\n",
    "| `\\\"`             | Double quote                 |\n",
    "| `\\n`             | New line                     |\n",
    "| `\\t`             | Horizontal tab               |\n",
    "\n",
    "We can rewrite the previous code using escape characters:"
   ]
  },
  {
   "cell_type": "code",
   "execution_count": null,
   "metadata": {},
   "outputs": [],
   "source": [
    "print('The moon is beautiful, isn\\'t it?') # Able to use ' inside a string enclosed in ''\n",
    "print(\"She responded, \\\"I can die happy.\\\"\") # Able to use \" inside a string enclosed in \"\""
   ]
  },
  {
   "cell_type": "markdown",
   "metadata": {},
   "source": [
    "### Raw strings\n",
    "\n",
    "By prefixing a string with `r` or `R`, we create a **raw string**, which tells Python to ignore all escape characters.\n",
    "\n",
    "Raw strings in Python are particularly useful for handling file paths and directories because they treat backslashes (`\\`) as literal characters. This is especially handy in file paths where the backslash is commonly used (Windows OS).\n",
    "\n",
    "For example:"
   ]
  },
  {
   "cell_type": "code",
   "execution_count": null,
   "metadata": {},
   "outputs": [],
   "source": [
    "# Normal string\n",
    "path = \"C:\\\\Users\\\\Username\\\\Documents\\\\File.txt\""
   ]
  },
  {
   "cell_type": "code",
   "execution_count": null,
   "metadata": {},
   "outputs": [],
   "source": [
    "# Raw string\n",
    "path = r\"C:\\Users\\Username\\Documents\\File.txt\""
   ]
  },
  {
   "cell_type": "markdown",
   "metadata": {},
   "source": [
    "## String Concatenation\n",
    "\n",
    "**Concatenation** is a fancy word for joining things together. In Python, we can concatenate strings, which means to join them end-to-end to make a new string.\n",
    "\n",
    "For example:"
   ]
  },
  {
   "cell_type": "code",
   "execution_count": null,
   "metadata": {},
   "outputs": [],
   "source": [
    "# Joining two strings together.\n",
    "greeting = \"Hello, \"\n",
    "name = \"Alice\"\n",
    "welcome_message = greeting + name\n",
    "print(welcome_message) # Outputs: Hello, Alice"
   ]
  },
  {
   "cell_type": "markdown",
   "metadata": {},
   "source": [
    "We can also \"multiply\" strings, which repeats the string a given number of times.\n",
    "\n",
    "For example:"
   ]
  },
  {
   "cell_type": "code",
   "execution_count": null,
   "metadata": {},
   "outputs": [],
   "source": [
    "print(\"Mu\" + \"ha\" * 5)"
   ]
  },
  {
   "cell_type": "markdown",
   "metadata": {},
   "source": [
    "### Points to remember when concatenating strings\n",
    "\n",
    "String concatenation might seem straightforward, but here are some important tips to remember:\n",
    "\n",
    "1. **Matching Types**: Only strings can be concatenated with other strings directly. If you try to concatenate a number with a string, you will get an error.\n",
    "2. **Converting Numbers**: If you need to concatenate a number with a string, convert the number to a string first using the `str()` function. For example:\n",
    "\n"
   ]
  },
  {
   "cell_type": "code",
   "execution_count": null,
   "metadata": {},
   "outputs": [],
   "source": [
    "# Convert number to string before concatenation\n",
    "age = 30\n",
    "string_with_number = \"Bob is \" + str(age)\n",
    "print(string_with_number)"
   ]
  },
  {
   "cell_type": "markdown",
   "metadata": {},
   "source": [
    "3. **Whitespace**: Python does not automatically add spaces between concatenated strings, so you need to include them yourself."
   ]
  },
  {
   "cell_type": "code",
   "execution_count": null,
   "metadata": {},
   "outputs": [],
   "source": [
    "first_name = \"John\"\n",
    "last_name = \"Doe\"\n",
    "full_name = first_name + \" \" + last_name # Include a space for readability\n",
    "print(full_name) # Outputs: John Doe\n"
   ]
  }
 ],
 "metadata": {
  "kernelspec": {
   "display_name": "Python 3",
   "language": "python",
   "name": "python3"
  },
  "language_info": {
   "codemirror_mode": {
    "name": "ipython",
    "version": 3
   },
   "file_extension": ".py",
   "mimetype": "text/x-python",
   "name": "python",
   "nbconvert_exporter": "python",
   "pygments_lexer": "ipython3",
   "version": "3.12.0"
  }
 },
 "nbformat": 4,
 "nbformat_minor": 2
}
