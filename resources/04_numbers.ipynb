{
 "cells": [
  {
   "cell_type": "markdown",
   "metadata": {},
   "source": [
    "# Numbers in Python\n",
    "\n",
    "Python can handle various types of numbers, but as beginners, we will focus on two basic kinds:\n",
    "\n",
    "- **Integers**: Whole numbers that can be positive or negative. Examples include `-1`, `0`, `42`.\n",
    "- **Floating Points (Floats)**: Numbers with a decimal point, and like integers, they can also be positive or negative. Examples include `-3.14`, `0.0`, `2.7182`."
   ]
  },
  {
   "cell_type": "markdown",
   "metadata": {},
   "source": [
    "## Numbers vs. Strings\n",
    "\n",
    "Remember, numbers do not have quotation marks around them. When you use quotation marks, Python treats the content as text, which is known as a string."
   ]
  },
  {
   "cell_type": "code",
   "execution_count": null,
   "metadata": {},
   "outputs": [],
   "source": [
    "# Number without quotation marks\n",
    "print(123)  # This will be treated as an number (integer)\n",
    "\n",
    "# Text with quotation marks\n",
    "print(\"123\")  # This will be treated as text (string)\n"
   ]
  },
  {
   "cell_type": "markdown",
   "metadata": {},
   "source": [
    "## Numbers in Variables\n",
    "\n",
    "Just as with printing, when we store numbers in variables, we do not use quotation marks."
   ]
  },
  {
   "cell_type": "code",
   "execution_count": null,
   "metadata": {},
   "outputs": [],
   "source": [
    "# Storing a positive integer\n",
    "quantity = 30\n",
    "\n",
    "# Storing a negative float\n",
    "temperature = -4.5\n",
    "\n",
    "# Printing variables\n",
    "print(quantity)\n",
    "print(temperature)"
   ]
  },
  {
   "cell_type": "markdown",
   "metadata": {},
   "source": [
    "## Basic Arithmetic Operations\n",
    "\n",
    "Python supports several arithmetic operations. \n",
    "\n",
    "Here are the basics:\n",
    "\n",
    "| Operator | Name              | Description                                   |\n",
    "|----------|-------------------|-----------------------------------------------|\n",
    "| `+`      | Addition          | Adds two operands.                            |\n",
    "| `-`      | Subtraction       | Subtracts the right operand from the left.    |\n",
    "| `*`      | Multiplication    | Multiplies two operands.                      |\n",
    "| `/`      | Division          | Divides the left operand by the right.        |\n",
    "| `%`      | Modulus           | Divides left operand by the right and returns the remainder. |\n",
    "| `**`     | Exponentiation    | Raises the left operand to the power of the right. |\n",
    "| `//`     | Floor division    | Divides and returns the largest integer result that is less than or equal to the actual result. |\n"
   ]
  },
  {
   "cell_type": "code",
   "execution_count": null,
   "metadata": {},
   "outputs": [],
   "source": [
    "# Addition\n",
    "print(3 + 2)  # Outputs: 5"
   ]
  },
  {
   "cell_type": "code",
   "execution_count": null,
   "metadata": {},
   "outputs": [],
   "source": [
    "# Subtraction\n",
    "print(3 - 2) # Outputs: 1"
   ]
  },
  {
   "cell_type": "code",
   "execution_count": null,
   "metadata": {},
   "outputs": [],
   "source": [
    "# Multiplication\n",
    "print(3 * 2) # Outputs: 6"
   ]
  },
  {
   "cell_type": "code",
   "execution_count": null,
   "metadata": {},
   "outputs": [],
   "source": [
    "# Division\n",
    "print(4 / 2) # Outputs: 2.0"
   ]
  },
  {
   "cell_type": "code",
   "execution_count": null,
   "metadata": {},
   "outputs": [],
   "source": [
    "# Modulus\n",
    "print(5 % 2) # Outputs: 1"
   ]
  },
  {
   "cell_type": "code",
   "execution_count": null,
   "metadata": {},
   "outputs": [],
   "source": [
    "# Exponentiation\n",
    "print(3 ** 2)  # Outputs: 9"
   ]
  },
  {
   "cell_type": "code",
   "execution_count": null,
   "metadata": {},
   "outputs": [],
   "source": [
    "# Floor division\n",
    "print(5 // 2)  # Outputs: 2"
   ]
  },
  {
   "cell_type": "markdown",
   "metadata": {},
   "source": [
    "Understanding basic math operations is highly beneficial throughout your Python journey, as it enables you to tackle tasks such as:\n",
    "- Finding averages or sums from data.\n",
    "- Measuring sizes or areas in simulations.\n",
    "- Comparing values to make decisions.\n",
    "- Handling money, tax, and interest.\n",
    "- Working with dates and times."
   ]
  },
  {
   "cell_type": "markdown",
   "metadata": {},
   "source": [
    "## Storing Results of Operations in Variables\n",
    "\n",
    "In Python, we can perform operations like addition, subtraction, multiplication, and division. The result of these operations can be stored in variables for future use.\n",
    "\n",
    "Here is a simple example:"
   ]
  },
  {
   "cell_type": "code",
   "execution_count": null,
   "metadata": {},
   "outputs": [],
   "source": [
    "# Perform an addition and store the result\n",
    "sum = 10 + 5\n",
    "print(sum) # Outputs: 15"
   ]
  },
  {
   "cell_type": "markdown",
   "metadata": {},
   "source": [
    "## Order of Operations\n",
    "\n",
    "Just like in standard math, Python follows a specific order when evaluating arithmetic expressions. This is often remembered by the acronym PEMDAS or similar:\n",
    "\n",
    "- **P**arentheses: `( )`\n",
    "- **E**xponents: `**`\n",
    "- **M**ultiplication and **D**ivision: `*`, `/`, `%`, and `//` (from left to right)\n",
    "- **A**ddition and **S**ubtraction: `+` and `-` (from left to right)\n",
    "\n",
    "Let's demonstrate using an example where we're coding a video game that calculates the player's score by adding the number of kills to the time they've been alive and then tripling this sum.\n",
    "\n",
    "Here is the code:"
   ]
  },
  {
   "cell_type": "code",
   "execution_count": null,
   "metadata": {},
   "outputs": [],
   "source": [
    "kills = 20\n",
    "time = 60\n",
    "final_score = (kills + time) * 3\n",
    "print(final_score) # Correct: Outputs 240"
   ]
  },
  {
   "cell_type": "markdown",
   "metadata": {},
   "source": [
    "Without brackets, multiplication has precedence over addition, leading to an incorrect score.\n",
    "\n",
    "See below:"
   ]
  },
  {
   "cell_type": "code",
   "execution_count": null,
   "metadata": {},
   "outputs": [],
   "source": [
    "kills = 20\n",
    "time = 60\n",
    "final_score = kills + time * 3\n",
    "print(final_score)  # Incorrect: Outputs 200\n"
   ]
  },
  {
   "cell_type": "markdown",
   "metadata": {},
   "source": [
    "## Different Behaviors with Different Data Types\n",
    "\n",
    "In Python, the plus (`+`) operator works differently depending on the data type of the objects we are using.\n",
    "\n",
    "- With **strings**, + concatenates them.\n",
    "- With **numbers**, + adds them.\n",
    "\n",
    "Remember, anything inside quotation marks in Python is treated as a string. This means we can't perform mathematical operations on them like we would with numbers."
   ]
  },
  {
   "cell_type": "code",
   "execution_count": null,
   "metadata": {},
   "outputs": [],
   "source": [
    "# This is string concatenation, not addition.\n",
    "string_numbers = \"7\" + \"7\" + \"7\"\n",
    "print(string_numbers)  # Outputs: 777\n"
   ]
  },
  {
   "cell_type": "markdown",
   "metadata": {},
   "source": [
    "Understanding how Python treats different data types will help you avoid errors and make your programming journey smoother."
   ]
  }
 ],
 "metadata": {
  "kernelspec": {
   "display_name": "Python 3",
   "language": "python",
   "name": "python3"
  },
  "language_info": {
   "codemirror_mode": {
    "name": "ipython",
    "version": 3
   },
   "file_extension": ".py",
   "mimetype": "text/x-python",
   "name": "python",
   "nbconvert_exporter": "python",
   "pygments_lexer": "ipython3",
   "version": "3.12.0"
  }
 },
 "nbformat": 4,
 "nbformat_minor": 2
}
