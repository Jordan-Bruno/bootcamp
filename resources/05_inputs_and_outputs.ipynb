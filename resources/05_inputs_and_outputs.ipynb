{
 "cells": [
  {
   "cell_type": "markdown",
   "metadata": {},
   "source": [
    "# Inputs and Outputs in Python"
   ]
  },
  {
   "cell_type": "markdown",
   "metadata": {},
   "source": [
    "## What are Inputs and Outputs?\n",
    "\n",
    "In simple terms:\n",
    "\n",
    "- An **Input** is information received by the program.\n",
    "- An **Output** is information provided by the program.\n",
    "\n",
    "Inputs can come from different sources like the user (through a keyboard), a file, a sensor, a network, or another program.\n",
    "\n",
    "Outputs are the responses from a program. It could be text on the screen, saving a file, or sending data over the internet."
   ]
  },
  {
   "cell_type": "markdown",
   "metadata": {},
   "source": [
    "### Input from devices\n",
    "\n",
    "Inputs can also come from various devices connected to the computer:\n",
    "\n",
    "- **Mouse**: Clicks and movements.\n",
    "- **Keyboard**: Typing and key presses.\n",
    "- **Microphone**: Sound and voice commands.\n",
    "- **Camera**: Images and video feed.\n",
    "- **Sensors**: Measurements like temperature, light, or movement.\n",
    "- **Network**: Data from the internet or other computers.\n",
    "\n",
    "For each type of device, Python uses special **libraries** or **modules** to interact with them."
   ]
  },
  {
   "cell_type": "markdown",
   "metadata": {},
   "source": [
    "## The `print()` Function\n",
    "One common way to produce output in Python is by using the already familiar `print()` function. It displays the specified message to the screen.\n",
    "\n",
    "For example:"
   ]
  },
  {
   "cell_type": "code",
   "execution_count": null,
   "metadata": {},
   "outputs": [],
   "source": [
    "print(\"Hello, World!\")"
   ]
  },
  {
   "cell_type": "markdown",
   "metadata": {},
   "source": [
    "## The `input()` Function\n",
    "\n",
    "Python has a `built-in function` called `input()` that allows us to take user input. This function pauses our program and waits for the user to type something. Once the user presses Enter, the function **returns** what was typed as a string.\n",
    "\n",
    "For example:"
   ]
  },
  {
   "cell_type": "code",
   "execution_count": null,
   "metadata": {},
   "outputs": [],
   "source": [
    "repeat = input()\n",
    "print(repeat)"
   ]
  },
  {
   "cell_type": "markdown",
   "metadata": {},
   "source": [
    "This code will recieve an input from the user and then output what the user entered."
   ]
  },
  {
   "cell_type": "markdown",
   "metadata": {},
   "source": [
    "### Points to remember about the `input()` function\n",
    "\n",
    "- The `input()` function always returns a string, even if the user enters numbers.\n",
    "- To use the input as a number, you need to convert it using functions like `int()` or `float()`.\n",
    "- You can provide a prompt string inside the parentheses of `input()` to display a message to the user.\n",
    "\n",
    "Here's an example that takes a number as input and multiplies it by 2:"
   ]
  },
  {
   "cell_type": "code",
   "execution_count": null,
   "metadata": {},
   "outputs": [],
   "source": [
    "number = input(\"Enter a number: \")\n",
    "result = int(number) * 2\n",
    "print(result)"
   ]
  }
 ],
 "metadata": {
  "kernelspec": {
   "display_name": "Python 3",
   "language": "python",
   "name": "python3"
  },
  "language_info": {
   "codemirror_mode": {
    "name": "ipython",
    "version": 3
   },
   "file_extension": ".py",
   "mimetype": "text/x-python",
   "name": "python",
   "nbconvert_exporter": "python",
   "pygments_lexer": "ipython3",
   "version": "3.12.0"
  }
 },
 "nbformat": 4,
 "nbformat_minor": 2
}
