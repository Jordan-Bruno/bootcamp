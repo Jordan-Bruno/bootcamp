{
 "cells": [
  {
   "cell_type": "markdown",
   "metadata": {},
   "source": [
    "# Debugging in Python"
   ]
  },
  {
   "cell_type": "markdown",
   "metadata": {},
   "source": [
    "## The Coding Process\n",
    "\n",
    "Coding typically follows a three-step process:\n",
    "\n",
    "1. Write Code: We start by writing our code.\n",
    "2. Run Code: We run our code to see if it works.\n",
    "3. Fix Code: If there are errors or it doesn't work as expected, we fix the code.\n",
    "\n",
    "This cycle repeats until our code runs correctly and does what we want it to do."
   ]
  },
  {
   "cell_type": "markdown",
   "metadata": {},
   "source": [
    "## Computers and Instructions\n",
    "\n",
    "Computers don't make guesses; they follow our instructions precisely. If oour instructions (code) contain mistakes, the computer cannot execute the code. Unlike humans, who can often understand meaning despite errors, computers require correct syntax and logic to run a program."
   ]
  },
  {
   "cell_type": "markdown",
   "metadata": {},
   "source": [
    "## Debugging is Part of the Process\n",
    "\n",
    "Making mistakes in coding is normal. Debugging is a natural part of the coding process. Even experienced programmers make mistakes. Don't worry about making errors; instead, use them as opportunities to learn and improve. Enjoy the process of problem-solving and debugging."
   ]
  },
  {
   "cell_type": "markdown",
   "metadata": {},
   "source": [
    "## Fixing Multiple Bugs\n",
    "\n",
    "If a program has several bugs, all of them need to be addressed. Sometimes fixing one bug can reveal another, so patience is key. Work through each error methodically."
   ]
  },
  {
   "cell_type": "markdown",
   "metadata": {},
   "source": [
    "## Execution Flow in Python\n",
    "\n",
    "Python executes code line by line from top to bottom. If it encounters an error, it stops (or \"**interrupts**\") the program at the first error it finds. We need to fix errors in the order they appear."
   ]
  },
  {
   "cell_type": "markdown",
   "metadata": {},
   "source": [
    "## Logical Errors\n",
    "\n",
    "A program can run without syntax errors but still not do what we want it to do. These are called logical errors. For example, if we accidentally multiply where we meant to divide, Python will do the multiplication without error. The program runs, but the result is incorrect. Logical errors require careful review to catch."
   ]
  },
  {
   "cell_type": "markdown",
   "metadata": {},
   "source": [
    "## Practice: Fixing Bugs\n",
    "\n",
    "With the knowledge you've gained from the previous notebooks, you are now equipped to tackle debugging. Below, you will find a series of programs with intentional bugs. Your task is to identify and fix these issues using what you've learned.\n",
    "\n",
    "Before you begin here is some advice:\n",
    "- Read error messages carefully; they often point you toward the location and type of the problem.\n",
    "- Check your syntax: parentheses, quotation marks.\n",
    "- Make sure you're using the correct operators and variables.\n",
    "- Verify the logic of your code to ensure it does what you intend.\n",
    "\n",
    "#### Good Luck Detective!"
   ]
  },
  {
   "cell_type": "code",
   "execution_count": null,
   "metadata": {},
   "outputs": [],
   "source": [
    "greeting = \"Hello, World!"
   ]
  },
  {
   "cell_type": "code",
   "execution_count": null,
   "metadata": {},
   "outputs": [],
   "source": [
    "5 + 3 = sum"
   ]
  },
  {
   "cell_type": "code",
   "execution_count": null,
   "metadata": {},
   "outputs": [],
   "source": [
    "print\"The quick brown fox jumps over the lazy dog\""
   ]
  },
  {
   "cell_type": "code",
   "execution_count": null,
   "metadata": {},
   "outputs": [],
   "source": [
    "name <- \"Alice\""
   ]
  },
  {
   "cell_type": "code",
   "execution_count": null,
   "metadata": {},
   "outputs": [],
   "source": [
    "print(\"Jordan said \"Five in a row is my favourite board game\"\")"
   ]
  },
  {
   "cell_type": "code",
   "execution_count": null,
   "metadata": {},
   "outputs": [],
   "source": [
    "print(\"C:\\Users\\Username\\Documents\\File.txt\")"
   ]
  },
  {
   "cell_type": "code",
   "execution_count": null,
   "metadata": {},
   "outputs": [],
   "source": [
    "anime = Re:Zero"
   ]
  },
  {
   "cell_type": "code",
   "execution_count": null,
   "metadata": {},
   "outputs": [],
   "source": [
    "name = \"Bob\"\n",
    "favourite_number - 28\n",
    "print(name)"
   ]
  },
  {
   "cell_type": "code",
   "execution_count": null,
   "metadata": {},
   "outputs": [],
   "source": [
    "print\"Having fun yet?\")"
   ]
  },
  {
   "cell_type": "code",
   "execution_count": null,
   "metadata": {},
   "outputs": [],
   "source": [
    "name = \"Carol\"\n",
    "age = 28\n",
    "job = Teacher\n",
    "print(age)"
   ]
  },
  {
   "cell_type": "code",
   "execution_count": null,
   "metadata": {},
   "outputs": [],
   "source": [
    "player_name = \"Player 1\"\n",
    "score = \"1000\"\n",
    "bonus_score = score * 3"
   ]
  },
  {
   "cell_type": "code",
   "execution_count": null,
   "metadata": {},
   "outputs": [],
   "source": [
    "print(colour)\n",
    "colour = \"Black\""
   ]
  },
  {
   "cell_type": "code",
   "execution_count": null,
   "metadata": {},
   "outputs": [],
   "source": [
    "book = \"The Count of Monte Cristo\"\n",
    "main_character = \"Edmond Dantès\"\n",
    "print(author)"
   ]
  },
  {
   "cell_type": "code",
   "execution_count": null,
   "metadata": {},
   "outputs": [],
   "source": [
    "count = \"10\"\n",
    "print(count + 1)"
   ]
  },
  {
   "cell_type": "code",
   "execution_count": null,
   "metadata": {},
   "outputs": [],
   "source": [
    "number1 = 10\n",
    "number2 = 20\n",
    "average = (number1 + number2)"
   ]
  },
  {
   "cell_type": "code",
   "execution_count": null,
   "metadata": {},
   "outputs": [],
   "source": [
    "#Print(\"Print Me!!!\")"
   ]
  },
  {
   "cell_type": "code",
   "execution_count": null,
   "metadata": {},
   "outputs": [],
   "source": [
    "number = 5\n",
    "number_squared = (number ** number)\n",
    "print(number_squared)"
   ]
  },
  {
   "cell_type": "code",
   "execution_count": null,
   "metadata": {},
   "outputs": [],
   "source": [
    "Storing University of Warwick geographical information\n",
    "location = \"University of Warwick\"\n",
    "latitude = 52.379414\n",
    "longitude = -1.561904\n",
    "\n",
    "print(latitude)\n",
    "print(longitude)"
   ]
  },
  {
   "cell_type": "code",
   "execution_count": null,
   "metadata": {},
   "outputs": [],
   "source": [
    "character name = \"Subaru\""
   ]
  },
  {
   "cell_type": "code",
   "execution_count": null,
   "metadata": {},
   "outputs": [],
   "source": [
    "users_age = input(\"Enter your age: \")\n",
    "print(\"Soon you will be \" + (users_age + 1) + \" years old.\")"
   ]
  },
  {
   "cell_type": "code",
   "execution_count": null,
   "metadata": {},
   "outputs": [],
   "source": [
    "dog_age = \"4\"\n",
    "dog_years = dog_age * 7\n",
    "print(dog_years)"
   ]
  },
  {
   "cell_type": "code",
   "execution_count": null,
   "metadata": {},
   "outputs": [],
   "source": [
    "first_name = input(\"Enter your first name: \")\n",
    "last_name = input(\"Enter your last name: \")\n",
    "print(\"Hello\" + first_name + last_name)"
   ]
  },
  {
   "cell_type": "code",
   "execution_count": null,
   "metadata": {},
   "outputs": [],
   "source": [
    "1stplace = \"Alice\"\n",
    "2ndplace = \"Bob\" "
   ]
  },
  {
   "cell_type": "code",
   "execution_count": null,
   "metadata": {},
   "outputs": [],
   "source": [
    "x, y, z = 10\n",
    "print(x)\n",
    "print(y)\n",
    "print(z)"
   ]
  }
 ],
 "metadata": {
  "kernelspec": {
   "display_name": "Python 3",
   "language": "python",
   "name": "python3"
  },
  "language_info": {
   "codemirror_mode": {
    "name": "ipython",
    "version": 3
   },
   "file_extension": ".py",
   "mimetype": "text/x-python",
   "name": "python",
   "nbconvert_exporter": "python",
   "pygments_lexer": "ipython3",
   "version": "3.12.0"
  }
 },
 "nbformat": 4,
 "nbformat_minor": 2
}
