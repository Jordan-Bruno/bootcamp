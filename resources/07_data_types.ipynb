{
 "cells": [
  {
   "cell_type": "markdown",
   "metadata": {},
   "source": [
    "# Data Types in Python"
   ]
  },
  {
   "cell_type": "markdown",
   "metadata": {},
   "source": [
    "## Data Types (Recap)\n",
    "\n",
    "In Python, every value has a data type. A data type is like a category for data that tells Python what kind of value we are working with. The data types we have already covered include:\n",
    "\n",
    "- **int**: for whole numbers, like `1`, `100`, or `-5`.\n",
    "- **float**: for decimal or floating-point numbers, like `3.14` or `-0.001`.\n",
    "- **str**: for text, known as strings, like `\"hello\"` or `\"data\"`."
   ]
  },
  {
   "cell_type": "markdown",
   "metadata": {},
   "source": [
    "## Why Data Types are Important\n",
    "\n",
    "Data types are important because they:\n",
    "\n",
    "1. Help Python understand what you want to do with the data.\n",
    "2. Ensure operations on data are done correctly.\n",
    "3. **Avoid data loss** – for example, not losing the decimal part in calculations.\n",
    "4. **Prevent data corruption** – like mixing text with numbers unintentionally."
   ]
  },
  {
   "cell_type": "markdown",
   "metadata": {},
   "source": [
    "## Checking Data Types in Python\n",
    "\n",
    "### The `type()` function\n",
    "\n",
    "To find out the data type of a value in Python, we use the `type()` function. Here’s how it works:"
   ]
  },
  {
   "cell_type": "code",
   "execution_count": null,
   "metadata": {},
   "outputs": [],
   "source": [
    "# Checking the type of 10, which is an integer.\n",
    "print(type(10))  # Output: <class 'int'>\n",
    "\n",
    "# Checking the type of 10.5, which is a float.\n",
    "print(type(10.5))  # Output: <class 'float'>\n",
    "\n",
    "# Checking the type of \"Python\", which is a string.\n",
    "print(type(\"Python\"))  # Output: <class 'str'>"
   ]
  },
  {
   "cell_type": "markdown",
   "metadata": {},
   "source": [
    "## Data Conversion in Python\n",
    "\n",
    "When we collect data, it may not always be in the format we need. For example, numbers might come as text, or we might need to display numbers in a message. Python makes it easy for us to convert data from one type to another."
   ]
  },
  {
   "cell_type": "markdown",
   "metadata": {},
   "source": [
    "### The `input()` function\n",
    "\n",
    "As we already know, when we use the `input()` function to collect data from a user, Python treats the input as a string, even if the user enters numbers.\n",
    "\n",
    "See below:"
   ]
  },
  {
   "cell_type": "code",
   "execution_count": null,
   "metadata": {},
   "outputs": [],
   "source": [
    "# Collecting input from the user\n",
    "user_age = input(\"Enter your age: \")\n",
    "print(type(user_age))  # Output: <class 'str'>"
   ]
  },
  {
   "cell_type": "markdown",
   "metadata": {},
   "source": [
    "Even if the user types `28` for example, `user_age` will be a string `\"28\"`, not a number."
   ]
  },
  {
   "cell_type": "markdown",
   "metadata": {},
   "source": [
    "## Converting Data Types\n",
    "\n",
    "Sometimes we need to convert the data from one type to another—this is known as type conversion."
   ]
  },
  {
   "cell_type": "markdown",
   "metadata": {},
   "source": [
    "### Converting strings to integers with `int()`\n",
    "\n",
    "If we have a number in a string and we need to do math with it, we'll need to convert it to an integer using the built-in `int()` function.\n",
    "\n",
    "Heres an example:"
   ]
  },
  {
   "cell_type": "code",
   "execution_count": null,
   "metadata": {},
   "outputs": [],
   "source": [
    "age = \"28\"  # age is a string\n",
    "print(type(age))  # Output: <class 'str'>\n",
    "age = int(age)  # Now age is an integer\n",
    "print(type(age))  # Output: <class 'int'>"
   ]
  },
  {
   "cell_type": "markdown",
   "metadata": {},
   "source": [
    "### Converting strings to floats with `float()`\n",
    "\n",
    "For decimal numbers in a string, use `float()` to convert them into a float.\n"
   ]
  },
  {
   "cell_type": "code",
   "execution_count": null,
   "metadata": {},
   "outputs": [],
   "source": [
    "height = \"1.75\"  # height is a string\n",
    "height = float(height)  # Now height is a float\n",
    "print(type(height))  # Output: <class 'float'>"
   ]
  },
  {
   "cell_type": "markdown",
   "metadata": {},
   "source": [
    "### Converting numeric types to strings with `str()`\n",
    "\n",
    "When you need to combine numbers with text, convert the number to a string.\n"
   ]
  },
  {
   "cell_type": "code",
   "execution_count": null,
   "metadata": {},
   "outputs": [],
   "source": [
    "age = 28  # age is an integer\n",
    "age = str(age)  # Now age is a string\n",
    "message = \"You are \" + age + \" years old.\"\n",
    "print(message)  # Output: \"You are 28 years old.\""
   ]
  },
  {
   "cell_type": "markdown",
   "metadata": {},
   "source": [
    "### Explicit conversion\n",
    "\n",
    "**Explicit conversion** is when you deliberately convert data from one type to another, as we did above with `int()`, `float()`, and `str()`."
   ]
  },
  {
   "cell_type": "markdown",
   "metadata": {},
   "source": [
    "### Implicit conversion\n",
    "\n",
    "Python sometimes converts data types on its own. This is **implicit conversion**. If you recall back to the numbers notebook, when you divide two integers in Python, the result is a float (even if the numbers divide evenly).\n",
    "\n",
    "Here is an example of implicit conversion:\n"
   ]
  },
  {
   "cell_type": "code",
   "execution_count": null,
   "metadata": {},
   "outputs": [],
   "source": [
    "# Dividing two integers\n",
    "result = 10 / 4\n",
    "print(result)  # Output: 2.5\n",
    "\n",
    "# Now, let's check the data type of the result\n",
    "print(type(result))  # Output: <class 'float'>"
   ]
  },
  {
   "cell_type": "markdown",
   "metadata": {},
   "source": [
    "Python does this to avoid losing any data from the division, by turning the result into a float we are able to preserve the precision of the division. \n",
    "\n",
    "See below what happens if we explicitly state we want the result to be an integer:"
   ]
  },
  {
   "cell_type": "code",
   "execution_count": null,
   "metadata": {},
   "outputs": [],
   "source": [
    "# Dividing two integers\n",
    "result = int(10 / 4)\n",
    "print(result)  # Output: 2\n",
    "\n",
    "# Now, let's check the data type of the result\n",
    "print(type(result))  # Output: <class 'int'>"
   ]
  },
  {
   "cell_type": "markdown",
   "metadata": {},
   "source": [
    "### Using data type conversions to avoid bugs\n",
    "\n",
    "Data type conversion is essential to avoid bugs. For example, we can't directly add a string and an integer or float. Python needs us to tell it explicitly to treat the string as a number if that's what we intend."
   ]
  },
  {
   "cell_type": "markdown",
   "metadata": {},
   "source": [
    "## Data Type and Mathematical Operations"
   ]
  },
  {
   "cell_type": "markdown",
   "metadata": {},
   "source": [
    "### Working with integers and floats\n",
    "\n",
    "As we already know by now, in Python, an integer is a whole number without a decimal point, like `3` or `-8`. A float is a number that has a decimal point, like `2.5` or `-0.01`.\n",
    "\n",
    "When we do a math operation between an integer and a float, Python automatically gives you a float as the result. This happens because a float can represent a wider range of numbers (including decimals) than an integer.\n",
    "\n",
    "Here is an example:"
   ]
  },
  {
   "cell_type": "code",
   "execution_count": null,
   "metadata": {},
   "outputs": [],
   "source": [
    "# An integer\n",
    "integer_number = 10\n",
    "\n",
    "# A float\n",
    "float_number = 3.5\n",
    "\n",
    "# The result of adding an integer and float will be a float\n",
    "result = integer_number + float_number\n",
    "print(result)  # Output: 13.5"
   ]
  },
  {
   "cell_type": "markdown",
   "metadata": {},
   "source": [
    "### Converting user input for calculations\n",
    "\n",
    "When we get input from a user using `input()`, it's always a string. If we want to use it in calculations, we need to convert it to an integer or float first.\n",
    "\n",
    "For example, if we expect the user to input a whole number, we can convert their input into an integer using `int()`. \n",
    "\n",
    "See below:\n",
    "\n",
    "#### Example 1"
   ]
  },
  {
   "cell_type": "code",
   "execution_count": null,
   "metadata": {},
   "outputs": [],
   "source": [
    "# Getting user input\n",
    "user_input = input(\"Enter a whole number: \")\n",
    "\n",
    "# Converting the input to an integer\n",
    "integer_input = int(user_input)\n",
    "\n",
    "# Now you can use it in math operations as an integer\n",
    "result = integer_input + 5\n",
    "print(result) "
   ]
  },
  {
   "cell_type": "markdown",
   "metadata": {},
   "source": [
    "#### Example 2"
   ]
  },
  {
   "cell_type": "code",
   "execution_count": null,
   "metadata": {},
   "outputs": [],
   "source": [
    "# Getting user input\n",
    "user_input = int(input(\"Enter a whole number: \")) # Explicitly converting the input to an integer.\n",
    "\n",
    "result = user_input + 5\n",
    "print(result) "
   ]
  },
  {
   "cell_type": "markdown",
   "metadata": {},
   "source": [
    "In the first example, we initially keep the input as a string. We then change it to an integer in a separate step. This method is handy if we need to perform some validation or manipulation to the input before using it as an integer.\n",
    "\n",
    "In the second example, we immediately change the input to an integer. This method is best if we need to use the input as a integer right away."
   ]
  }
 ],
 "metadata": {
  "kernelspec": {
   "display_name": "Python 3",
   "language": "python",
   "name": "python3"
  },
  "language_info": {
   "codemirror_mode": {
    "name": "ipython",
    "version": 3
   },
   "file_extension": ".py",
   "mimetype": "text/x-python",
   "name": "python",
   "nbconvert_exporter": "python",
   "pygments_lexer": "ipython3",
   "version": "3.12.0"
  }
 },
 "nbformat": 4,
 "nbformat_minor": 2
}
