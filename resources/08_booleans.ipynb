{
 "cells": [
  {
   "cell_type": "markdown",
   "metadata": {},
   "source": [
    "# Booleans in Python"
   ]
  },
  {
   "cell_type": "markdown",
   "metadata": {},
   "source": [
    "## Introduction to Comparison Operators\n",
    "\n",
    "**Comparison operators** are symbols that tell Python to compare two values. They check how one value relates to another. The result of this comparison is a **Boolean** value, which can be either `True` or `False`.\n",
    "\n",
    "Here are the main comparison operators in Python:\n",
    "\n",
    "| Operator | Name                     | Description                                                                                           |\n",
    "|----------|--------------------------|-------------------------------------------------------------------------------------------------------|\n",
    "| ==       | Equal                    | This operator checks if a value is equivalent to another value.         |\n",
    "| !=       | Not equal                | This operator checks if a value is not equivalent to another value.                                   |\n",
    "| >        | Greater than             | This operator checks if a value is greater than another value.                                        |\n",
    "| <        | Less than                | This operator checks if a value is less than another value.                                           |\n",
    "| >=       | Greater than or equal to | This operator checks if a value is greater than or equal to another value.                            |\n",
    "| <=       | Less than or equal to    | This operator checks if a value is less than or equal to another value.  |"
   ]
  },
  {
   "cell_type": "markdown",
   "metadata": {},
   "source": [
    "## The Role of Comparison Operators in Programming\n",
    "\n",
    "Comparison operators are fundamental in programming because they allow the program to make decisions. For example, you can check if one number is bigger than another, or if two strings of text are the same. Based on the result, the program can do different things."
   ]
  },
  {
   "cell_type": "markdown",
   "metadata": {},
   "source": [
    "## Understanding the Boolean Data Type\n",
    "\n",
    "A Boolean is a data type that can only be `True` or `False`. \n",
    "\n",
    "Here is how you might see Booleans from comparison operators:"
   ]
  },
  {
   "cell_type": "code",
   "execution_count": null,
   "metadata": {},
   "outputs": [],
   "source": [
    "print(5 == 10) # Outputs: False\n",
    "print(5 != 10 ) # Outputs: True\n",
    "print(5 > 10) # Outputs: False\n",
    "print(5 < 10) # Outputs: True\n",
    "print(5 >= 10) # Outputs: False\n",
    "print(5 <= 5) # Outputs True"
   ]
  },
  {
   "cell_type": "markdown",
   "metadata": {},
   "source": [
    "#### Points to remember:\n",
    "\n",
    "- Use comparison operators to compare values.\n",
    "- The result of a comparison is always a Boolean: True or False.\n",
    "- Booleans are essential for decision-making in programming.\n",
    "- In programming, a statement or expression that evaluates to either `True` or `False` is referred to as a condition.\n"
   ]
  },
  {
   "cell_type": "markdown",
   "metadata": {},
   "source": [
    "## Logical Operators in Python\n",
    "\n",
    "**Logical operators** are a simple yet powerful tool in programming that allow us to combine multiple conditions together."
   ]
  },
  {
   "cell_type": "markdown",
   "metadata": {},
   "source": [
    "## The Role of Logical Operations in Programming\n",
    "\n",
    "Sometimes in programming, we need to check more than one condition before deciding what action to take. Logical operators let us do this by combining two or more conditions.\n",
    "\n",
    "Logical operators are like the conjunctions \"and\" and \"or\" in English. They help us join conditions to make more complex decisions. The result of a logical operation is a Boolean value, `True` or `False`."
   ]
  },
  {
   "cell_type": "markdown",
   "metadata": {},
   "source": [
    "### The `and` operator\n",
    "\n",
    "The `and` operator checks if **both** conditions are `True`. If they are, it returns `True`. If even **one** condition is `False`, it returns `False`.\n",
    "\n",
    "Here is an example of a logical `and` operation:"
   ]
  },
  {
   "cell_type": "code",
   "execution_count": null,
   "metadata": {},
   "outputs": [],
   "source": [
    "# Both conditions are true\n",
    "print(True and True)  # Output: True\n",
    "\n",
    "# One condition is false\n",
    "print(True and False)  # Output: False"
   ]
  },
  {
   "cell_type": "markdown",
   "metadata": {},
   "source": [
    "### The `or` operator\n",
    "\n",
    "The `or` operator checks if **at least one** of the conditions is `True`. If at least one condition is `True`, it returns `True`. It only returns `False` if **both** conditions are `False`.\n",
    "\n",
    "Here is an example of a logical `or` operation:"
   ]
  },
  {
   "cell_type": "code",
   "execution_count": null,
   "metadata": {},
   "outputs": [],
   "source": [
    "# One condition is true\n",
    "print(True or False)  # Output: True\n",
    "\n",
    "# Both conditions are false\n",
    "print(False or False)  # Output: False"
   ]
  },
  {
   "cell_type": "markdown",
   "metadata": {},
   "source": [
    "In these examples, you can see how combining conditions with logical operators allows us to make more complex decisions."
   ]
  },
  {
   "cell_type": "markdown",
   "metadata": {},
   "source": [
    "#### Points to remember:\n",
    "\n",
    "- Logical operations help to make decisions based on multiple conditions.\n",
    "- The `and` operator returns `True` only if **all** conditions are `True`.\n",
    "- The `or` operator returns `True` if **at least one** condition is `True`.\n",
    "- The result of logical operations is always a Boolean: `True` or `False`."
   ]
  },
  {
   "cell_type": "markdown",
   "metadata": {},
   "source": [
    "## Combining Comparison and Logical Operators\n",
    "\n",
    "We can use comparison operators in conjuction with logical operators."
   ]
  },
  {
   "cell_type": "code",
   "execution_count": null,
   "metadata": {},
   "outputs": [],
   "source": [
    "# Both conditions are true\n",
    "print((10 > 5) and (8 < 15))  # Output: True\n",
    "\n",
    "# One condition is false\n",
    "print((10 > 5) and (8 > 15))  # Output: False\n",
    "\n",
    "# One condition is true\n",
    "print((10 > 5) or (8 > 15))  # Output: True\n",
    "\n",
    "# Both conditions are false\n",
    "print((10 < 5) or (8 > 15))  # Output: False"
   ]
  },
  {
   "cell_type": "markdown",
   "metadata": {},
   "source": [
    "### Using parentheses for clarity and order of operations\n",
    "\n",
    "Similarly to performing complex artihmetic operations, we can use parentheses `()` to make complex expressions clearer and to control the order in which operations are performed.\n",
    "\n",
    "For example:\n"
   ]
  },
  {
   "cell_type": "code",
   "execution_count": null,
   "metadata": {},
   "outputs": [],
   "source": [
    "# Without parentheses\n",
    "print(5 > 3 and 7 < 2 or 4 == 4)  # This might be confusing.\n",
    "\n",
    "# With parentheses for clarity\n",
    "print((5 > 3 and 7 < 2) or (4 == 4))  # Much clearer!"
   ]
  },
  {
   "cell_type": "markdown",
   "metadata": {},
   "source": [
    "### Case Sensitivity\n",
    "\n",
    "In Python, the Boolean values for true and false are `True` and `False`, with uppercase 'T' and 'F'. Similarly, logical operators such as `and` and `or` are all lowercase. It is crucial to use the correct case because Python is case-sensitive, which means it treats uppercase and lowercase letters as different."
   ]
  },
  {
   "cell_type": "markdown",
   "metadata": {},
   "source": [
    "## Storing Boolean Values in Variables\n",
    "\n",
    "We can store the result of a comparison or logical operation in a variable. This can make our code cleaner and easier to understand.\n",
    "\n",
    "For example:"
   ]
  },
  {
   "cell_type": "code",
   "execution_count": null,
   "metadata": {},
   "outputs": [],
   "source": [
    "# Storing a comparison operation in a variable\n",
    "age = 28\n",
    "is_teen = age >= 13 and age <= 19\n",
    "print(is_teen)  # Output: False because 28 is not between 13 and 19\n",
    "\n",
    "# Storing a logical operation in a variable\n",
    "has_permission = True\n",
    "is_open = False\n",
    "can_enter = has_permission and is_open\n",
    "print(can_enter)  # Output: False because is_open is False"
   ]
  },
  {
   "cell_type": "markdown",
   "metadata": {},
   "source": [
    "In these examples, `is_teen` and `can_enter` store the results of their respective logical operations, which we can use later in your code."
   ]
  }
 ],
 "metadata": {
  "kernelspec": {
   "display_name": "Python 3",
   "language": "python",
   "name": "python3"
  },
  "language_info": {
   "codemirror_mode": {
    "name": "ipython",
    "version": 3
   },
   "file_extension": ".py",
   "mimetype": "text/x-python",
   "name": "python",
   "nbconvert_exporter": "python",
   "pygments_lexer": "ipython3",
   "version": "3.12.0"
  }
 },
 "nbformat": 4,
 "nbformat_minor": 2
}
