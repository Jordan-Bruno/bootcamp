{
 "cells": [
  {
   "cell_type": "markdown",
   "metadata": {},
   "source": [
    "# Flow Control in Python\n",
    "\n",
    "Flow control in programming is about deciding what should happen when your code runs. \n",
    "\n",
    "There are three main types of flow control:\n",
    "\n",
    "1. **Sequencing**: This is the default mode (which we are familiar with) where instructions are executed one after the other, in order.\n",
    "2. **Iteration**: This means repeating some code over and over again, which is often called a loop.\n",
    "3. **Selection**: This is when we use conditions to decide which pieces of code to execute, also known as conditional execution.\n",
    "\n",
    "In the real world of programming, we rarely use sequencing, iteration, and selection in isolation. Instead, most computer programs combine these three techniques to perform complex tasks.\n",
    "\n",
    "Just like in a complex machine where different parts perform different functions, in programming, different flow control techniques serve different purposes. By combining them, we can handle more complicated tasks and solve complex problems."
   ]
  },
  {
   "cell_type": "markdown",
   "metadata": {},
   "source": [
    "### Why is Flow Control Important?\n",
    "\n",
    "**Decision Making**: Flow control allows programs to make decisions, letting them choose different courses of action based on user input, the value of variables, or other conditions.\n",
    "\n",
    "**Dynamic Behavior**: It enables the creation of responsive programs that can adjust their behavior based on the circumstances they encounter.\n",
    "\n",
    "**Efficiency**: Instead of performing unnecessary operations, a program can decide to skip certain sections of code, making it more efficient."
   ]
  },
  {
   "cell_type": "markdown",
   "metadata": {},
   "source": [
    "# Iterating with `for` Loops\n",
    "\n",
    "A `for` loop in Python lets you repeat a block of code multiple times. This is called **iterating**.\n",
    "\n",
    "Here's how a basic `for` loop looks in Python:"
   ]
  },
  {
   "cell_type": "code",
   "execution_count": null,
   "metadata": {},
   "outputs": [],
   "source": [
    "for i in range(5):\n",
    "    print(\"Hello, World!\")"
   ]
  },
  {
   "cell_type": "markdown",
   "metadata": {},
   "source": [
    "In this loop, the `print()` statement will be executed 5 times.\n",
    "\n",
    "Here is a breakdown of the `for` loop:\n",
    "\n",
    "- **`for`**: A keyword that starts the loop.\n",
    "- **`i`**: The iteration variable that changes with each loop iteration.\n",
    "- **`range(5)`**: A function that gives a sequence of numbers (from 0 to 4 in this case) for the loop to iterate over.\n",
    "- **`:`**: Indicates the start of the code block.\n",
    "- **`print(\"Hello, World!\")`**: The block of code to repeat; notice it's indented."
   ]
  },
  {
   "cell_type": "markdown",
   "metadata": {},
   "source": [
    "## Importance of Indentation\n",
    "\n",
    "ndentation is essential in Python, especially with loops and conditional blocks. It tells Python which lines of code belong to the loop and which do not.\n",
    "\n",
    "When you write a `for` loop, every line of code that should be executed as part of the loop must be indented **uniformly**. This means each line should start with the same number of spaces or a tab.\n",
    "\n",
    "Here's the correct way to use indentation with a for loop:"
   ]
  },
  {
   "cell_type": "code",
   "execution_count": null,
   "metadata": {},
   "outputs": [],
   "source": [
    "for i in range(5):\n",
    "    print(\"This is inside the loop.\")\n",
    "    print(\"This will also repeat in the loop.\")\n",
    "\n",
    "print(\"This is outside the loop.\")"
   ]
  },
  {
   "cell_type": "markdown",
   "metadata": {},
   "source": [
    "In this example, the two `print()` statements inside the loop will be repeated 5 times. The last `print()` statement is not indented, so it's not part of the loop and will only execute once after the loop finishes."
   ]
  },
  {
   "cell_type": "markdown",
   "metadata": {},
   "source": [
    "### Incorrect indentation\n",
    "\n",
    "Incorrect indentation leads to errors or unexpected behavior in your code. \n",
    "\n",
    "Here's an example of what not to do:"
   ]
  },
  {
   "cell_type": "code",
   "execution_count": null,
   "metadata": {},
   "outputs": [],
   "source": [
    "for i in range(5):\n",
    "print(\"This will cause an error because it is not indented.\")"
   ]
  },
  {
   "cell_type": "markdown",
   "metadata": {},
   "source": [
    "Running this code will cause Python to stop and raise an `IndentationError`, telling you that it expected an indented block."
   ]
  },
  {
   "cell_type": "markdown",
   "metadata": {},
   "source": [
    "### The role of the colon\n",
    "\n",
    "The colon `:` at the end of the `for` statement (and many other statements in Python) signals the start of the indented block of code that forms the loop body (in this case)."
   ]
  },
  {
   "cell_type": "markdown",
   "metadata": {},
   "source": [
    "### Indentation best practices\n",
    "\n",
    "- Use 4 spaces for indentation, which is the Python standard.\n",
    "- Be consistent with the use of spaces or tabs for indentation.\n",
    "- All lines of code within the same block should have the same indentation."
   ]
  },
  {
   "cell_type": "markdown",
   "metadata": {},
   "source": [
    "## Empty Code Blocks\n",
    "\n",
    "In Python, indented code blocks following structures like `for` loops **cannot** be empty. If we try to leave a block empty, Python will give us an `IndentationError`.\n",
    "\n",
    "If we do not have code ready for the block, we can use the `pass` keyword. The `pass` keyword is a placeholder that allows us to handle these empty blocks without error. It lets Python know that the block is intentionally left empty, avoiding an error and allowing our program to run smoothly.\n",
    "\n",
    "Here's how we can use `pass` in a `for` loop:"
   ]
  },
  {
   "cell_type": "code",
   "execution_count": null,
   "metadata": {},
   "outputs": [],
   "source": [
    "for i in range(5):\n",
    "    # Suppose we're not sure what to do here yet\n",
    "    pass"
   ]
  },
  {
   "cell_type": "markdown",
   "metadata": {},
   "source": [
    "# Iterating with `while` Loops\n",
    "\n",
    "A `while` loop in Python allow us to execute a block of code repeatedly as long as a condition is `True`. Unlike `for` loops, `while` loops are used when the number of iterations is not known before starting the loop."
   ]
  },
  {
   "cell_type": "markdown",
   "metadata": {},
   "source": [
    "## Using While Loops for Unknown Iteration Counts\n",
    "\n",
    "Sometimes we do not know in advance how many times we need to iterate. For instance, asking a user for input until they provide a valid response.\n",
    "\n",
    "Here's a basic example of a `while` loop:"
   ]
  },
  {
   "cell_type": "code",
   "execution_count": 5,
   "metadata": {},
   "outputs": [
    {
     "name": "stdout",
     "output_type": "stream",
     "text": [
      "Counter is 0\n",
      "Counter is 1\n",
      "Counter is 2\n",
      "Counter is 3\n",
      "Counter is 4\n"
     ]
    }
   ],
   "source": [
    "counter = 0\n",
    "while counter < 5:\n",
    "    print(\"Counter is\", counter)\n",
    "    counter += 1  # This is important!"
   ]
  },
  {
   "cell_type": "markdown",
   "metadata": {},
   "source": [
    "In this example, the loop will run as long as `counter` is less than `5`. The amount of iterations the `while` loop performs depends on the value of `counter`.\n",
    "\n"
   ]
  },
  {
   "cell_type": "markdown",
   "metadata": {},
   "source": [
    "## `while` Loop Syntax\n",
    "\n",
    "The basic structure of a `while` loop includes the `while` keyword, a condition that's checked before each iteration, and a `:` followed by an indented block of code to execute."
   ]
  },
  {
   "cell_type": "code",
   "execution_count": 9,
   "metadata": {},
   "outputs": [
    {
     "name": "stdout",
     "output_type": "stream",
     "text": [
      "Ticket sold!\n",
      "Ticket sold!\n",
      "Ticket sold!\n",
      "Ticket sold!\n",
      "Ticket sold!\n",
      "Ticket sold!\n",
      "Ticket sold!\n",
      "Ticket sold!\n",
      "Ticket sold!\n",
      "Ticket sold!\n",
      "Tickets sold out.\n"
     ]
    }
   ],
   "source": [
    "tickets = 10\n",
    "\n",
    "while tickets > 0:\n",
    "    print(\"Ticket sold!\")\n",
    "    tickets -= 1\n",
    "print(\"Tickets sold out.\")"
   ]
  },
  {
   "cell_type": "markdown",
   "metadata": {},
   "source": [
    "## Infinite Loops\n",
    "\n",
    "If the condition in a `while` loop never becomes `False`, the loop will run forever, creating what's known as an **infinite loop**. To avoid this, we must ensure that the condition is updated during the iteration and that it will eventually be `False`."
   ]
  },
  {
   "cell_type": "markdown",
   "metadata": {},
   "source": [
    "### Counters in `while` loops\n",
    "\n",
    "Counters are a common way to track the number of iterations and to eventually stop the loop. In our example, `counter += 1` increments the counter by `1` in each iteration."
   ]
  },
  {
   "cell_type": "markdown",
   "metadata": {},
   "source": [
    "### Avoiding infinite loops\n",
    "To avoid infinite loops:\n",
    "\n",
    "- Make sure the loop has a condition that can become `False`.\n",
    "- If using a counter, ensure it is incremented or decremented correctly.\n",
    "- Test your loop with different conditions to ensure it stops as expected."
   ]
  },
  {
   "cell_type": "markdown",
   "metadata": {},
   "source": [
    "# Iteration Wrap Up"
   ]
  },
  {
   "cell_type": "markdown",
   "metadata": {},
   "source": [
    "## After the Loop\n",
    "\n",
    "Once a loop has completed its execution, the flow of the program returns to sequencing and continues to the next line of code that follows the loop block. It's important to understand what happens once a loop is done because you might need to perform actions based on the work done by the loop."
   ]
  },
  {
   "cell_type": "markdown",
   "metadata": {},
   "source": [
    "## `for` vs `while` Loops\n",
    "\n",
    "To choose between a `for` loop and a `while` loop, consider the following:\n",
    "\n",
    "- Use a `for` loop when:\n",
    "    - You know exactly how many times you need to iterate.\n",
    "\n",
    "- Use a `while` loop when:\n",
    "    - The number of iterations is not known in advance.\n",
    "    - You need the loop to stop based on a condition.\n",
    "\n",
    "We will introduce more uses for the `for` and `while` loops when we explore more concepts."
   ]
  }
 ],
 "metadata": {
  "kernelspec": {
   "display_name": "Python 3",
   "language": "python",
   "name": "python3"
  },
  "language_info": {
   "codemirror_mode": {
    "name": "ipython",
    "version": 3
   },
   "file_extension": ".py",
   "mimetype": "text/x-python",
   "name": "python",
   "nbconvert_exporter": "python",
   "pygments_lexer": "ipython3",
   "version": "3.12.0"
  }
 },
 "nbformat": 4,
 "nbformat_minor": 2
}
