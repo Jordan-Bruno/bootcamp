{
 "cells": [
  {
   "cell_type": "markdown",
   "metadata": {},
   "source": [
    "# Conditional Statements in Python\n",
    "\n",
    "**Conditional statements** are fundamental constructs in programming that allow our programs to make decisions based on certain conditions or criteria. They help in altering the flow of execution by branching out into different parts of code based on some conditions."
   ]
  },
  {
   "cell_type": "markdown",
   "metadata": {},
   "source": [
    "## Directing Program Flow with Conditional Statements"
   ]
  },
  {
   "cell_type": "markdown",
   "metadata": {},
   "source": [
    "Normally, a Python program is executed from top to bottom (**Sequencing**). However, when conditionals come into play, the linear flow of execution can be altered. Based on whether a condition is `True` or `False`, different parts of the code might get executed (**Selection**), and some parts might get skipped altogether."
   ]
  },
  {
   "cell_type": "markdown",
   "metadata": {},
   "source": [
    "## The `if` Statement\n",
    "\n",
    "The `if` statement is used to test a specific condition. If the condition is `True`, the code block under the `if` statement will be executed.\n",
    "\n",
    "For example:"
   ]
  },
  {
   "cell_type": "code",
   "execution_count": 1,
   "metadata": {},
   "outputs": [
    {
     "name": "stdout",
     "output_type": "stream",
     "text": [
      "Adult Ticket\n"
     ]
    }
   ],
   "source": [
    "age = 28\n",
    "\n",
    "if age >= 18:\n",
    "    print(\"Adult Ticket\") "
   ]
  },
  {
   "cell_type": "code",
   "execution_count": 2,
   "metadata": {},
   "outputs": [],
   "source": [
    "age = 14\n",
    "\n",
    "if age >= 18:\n",
    "    print(\"Adult Ticket\")"
   ]
  },
  {
   "cell_type": "markdown",
   "metadata": {},
   "source": [
    "## The `else` Statement\n",
    "\n",
    "The `else` statement is used to capture all cases where the preceding `if` condition is `False`. It doesn't have a condition; it simply catches everything that the `if` didn't.\n",
    "\n",
    "Here's an example of our previous code incorporating an `else` block:"
   ]
  },
  {
   "cell_type": "code",
   "execution_count": 3,
   "metadata": {},
   "outputs": [
    {
     "name": "stdout",
     "output_type": "stream",
     "text": [
      "Child Ticket\n"
     ]
    }
   ],
   "source": [
    "age = 14\n",
    "\n",
    "if age >= 18: \n",
    "    print(\"Adult Ticket\") \n",
    "else:\n",
    "    print(\"Child Ticket\")"
   ]
  },
  {
   "cell_type": "markdown",
   "metadata": {},
   "source": [
    "## The `elif` Statement\n",
    "\n",
    "The `elif` (else-if) statement is used when we want to test multiple conditions, and it comes after an `if` and before an `else`. Allowing for more than two possible paths of execution."
   ]
  },
  {
   "cell_type": "code",
   "execution_count": null,
   "metadata": {},
   "outputs": [],
   "source": [
    "age = 14\n",
    "\n",
    "if age >= 65:\n",
    "    print(\"Senior Ticket\")\n",
    "elif age >= 18:\n",
    "    print(\"Adult Ticket\")\n",
    "elif age >= 4:\n",
    "    print(\"Child Ticket\")\n",
    "else:\n",
    "    print(\"Free (Accompanied by Adult)\")"
   ]
  },
  {
   "cell_type": "markdown",
   "metadata": {},
   "source": [
    "## The `if`, `elif` and `else` Syntax\n",
    "\n",
    "The syntax for the `if`, `elif`, `else` structure can be broken down into the following components:\n",
    "\n",
    "1. **`if` Keyword**: The structure starts with the `if` keyword followed by a condition. This checks whether the condition is `True`.\n",
    "\n",
    "2. **Condition**: This is a Boolean expression that determines whether the code block under the associated keyword (`if` or `elif`) will run.\n",
    "\n",
    "3. **Colon (`:`)**: As with other control structures in Python, lines defining `if`, `elif`, and `else` must end with a colon.\n",
    "\n",
    "4. **Indented Code Block**: Following each keyword (`if`, `elif`, or `else`), there's an indented block of code.\n",
    "\n",
    "5. **`elif` Keyword**: Short for \"else if\". It allows for additional conditions to be checked if the previous ones are `False`.\n",
    "\n",
    "6. **`else` Keyword**: This is the final fallback option. The code block underneath `else` will execute if none of the preceding conditions (from `if` and `elif` statements) are `True`."
   ]
  },
  {
   "cell_type": "markdown",
   "metadata": {},
   "source": [
    "### When to use `elif` and when to skip `else`\n",
    "\n",
    "Sometimes, we might have multiple conditions to check. For this, we use `elif` (short for \"else if\"). The `else` part is optional and is only used if we want to do something when none of the `if` or `elif` conditions are `True`."
   ]
  },
  {
   "cell_type": "markdown",
   "metadata": {},
   "source": [
    "### Proper ordering of `if`, `elif`, and `else`\n",
    "\n",
    "Order is important. Python checks the `if` and `elif` conditions in the order they appear in the code. Once it finds a `True` condition, it runs the block of code underneath and **skips** the rest."
   ]
  },
  {
   "cell_type": "markdown",
   "metadata": {},
   "source": [
    "## Nesting Conditional Statements\n",
    "\n",
    "Sometimes, you'll want to check a condition within another condition. This is called nesting.\n",
    "\n",
    "Here's an example of nested `if` statements:"
   ]
  },
  {
   "cell_type": "code",
   "execution_count": 6,
   "metadata": {},
   "outputs": [
    {
     "name": "stdout",
     "output_type": "stream",
     "text": [
      "Discount applies: 10% off.\n"
     ]
    }
   ],
   "source": [
    "age = 28\n",
    "is_member = True\n",
    "\n",
    "if is_member: # is_member is True, so the program enters the first block of code\n",
    "    if age <= 21: # evaluates to False, so code block is skipped\n",
    "        print(\"Discount applies: 20% off.\")\n",
    "    else: # code block is executed as all previous tests were False\n",
    "        print(\"Discount applies: 10% off.\")\n",
    "else: # as the first conditional test is True this code block is skipped\n",
    "    print(\"No discount.\")\n"
   ]
  }
 ],
 "metadata": {
  "kernelspec": {
   "display_name": "Python 3",
   "language": "python",
   "name": "python3"
  },
  "language_info": {
   "codemirror_mode": {
    "name": "ipython",
    "version": 3
   },
   "file_extension": ".py",
   "mimetype": "text/x-python",
   "name": "python",
   "nbconvert_exporter": "python",
   "pygments_lexer": "ipython3",
   "version": "3.12.0"
  }
 },
 "nbformat": 4,
 "nbformat_minor": 2
}
