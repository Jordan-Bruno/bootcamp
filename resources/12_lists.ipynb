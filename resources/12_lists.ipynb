{
 "cells": [
  {
   "cell_type": "markdown",
   "metadata": {},
   "source": [
    "# Lists in Python\n",
    "\n",
    "In Python, a **list** is an **ordered** collection of items that can be **changed**. \n",
    "\n",
    "Here's how we can create one:"
   ]
  },
  {
   "cell_type": "code",
   "execution_count": null,
   "metadata": {},
   "outputs": [],
   "source": [
    "my_list = [1, \"hello\", 3.14]"
   ]
  },
  {
   "cell_type": "markdown",
   "metadata": {},
   "source": [
    "- Lists are written with square brackets `[]`.\n",
    "- Each item in the list is separated by a comma `,`.\n",
    "- Lists can have items of any data type.\n",
    "- Items in a list are kept in order."
   ]
  },
  {
   "cell_type": "markdown",
   "metadata": {},
   "source": [
    "## Indexing\n",
    "\n",
    "An **index** is like an address for each item in our list. It tells us where each item lives. In Python, indexing **starts** from 0. The first item has index 0, the second item has index 1, and so on."
   ]
  },
  {
   "cell_type": "markdown",
   "metadata": {},
   "source": [
    "### Accessing list elements\n",
    "\n",
    "We can get any item we want from our list if we know its index. \n",
    "\n",
    "For example:"
   ]
  },
  {
   "cell_type": "code",
   "execution_count": null,
   "metadata": {},
   "outputs": [],
   "source": [
    "my_list = [\"apple\", \"banana\", \"cherry\"]\n",
    "print(my_list[1])"
   ]
  },
  {
   "cell_type": "markdown",
   "metadata": {},
   "source": [
    "This will show `banana` because `\"banana\"` is at index `1`."
   ]
  },
  {
   "cell_type": "markdown",
   "metadata": {},
   "source": [
    "### Lists are mutable\n",
    "\n",
    "**Mutable** means we can change the list after we create it. We can change the items, add new items, or remove items. \n",
    "\n",
    "Here's how we change an item:"
   ]
  },
  {
   "cell_type": "code",
   "execution_count": null,
   "metadata": {},
   "outputs": [],
   "source": [
    "my_list = [\"apple\", \"banana\", \"cherry\"]\n",
    "my_list[1] = \"orange\"\n",
    "print(my_list)"
   ]
  },
  {
   "cell_type": "markdown",
   "metadata": {},
   "source": [
    "Now, the list is `[\"apple\", \"orange\", \"cherry\"]`."
   ]
  },
  {
   "cell_type": "markdown",
   "metadata": {},
   "source": [
    "### Indexing with strings\n",
    "\n",
    "Strings are similar to lists in that they are an ordered sequence of characters instead of items, therefore each character has an index."
   ]
  },
  {
   "cell_type": "code",
   "execution_count": null,
   "metadata": {},
   "outputs": [],
   "source": [
    "greeting = \"Hello, World!\"\n",
    "print(greeting[1])"
   ]
  },
  {
   "cell_type": "markdown",
   "metadata": {},
   "source": [
    "This will print `e` because it's at index 1 in the string `\"Hello, World!\"`.\n",
    "\n",
    "Unlike lists, strings are **immutable**. We cannot change them once they are created. \n",
    "\n",
    "Here's what happens if we try to change a string:"
   ]
  },
  {
   "cell_type": "code",
   "execution_count": null,
   "metadata": {},
   "outputs": [],
   "source": [
    "greeting = \"Hello, World!\"\n",
    "greeting[1] = \"a\"\n",
    "print(greeting)"
   ]
  },
  {
   "cell_type": "markdown",
   "metadata": {},
   "source": [
    "## Slicing\n",
    "\n",
    "Slicing is taking a section of our list or string, similar to cutting a piece of cake from the whole. To do this, we need to tell Python where to start cutting and where to stop.\n",
    "\n",
    "The basic syntax for slicing is:\n",
    "\n",
    "`list[start:stop]`\n",
    "\n",
    "- **start** is the index where the slice starts.\n",
    "- **stop** is the index where the slice ends, but this item will not be included in the slice.\n",
    "- The **`:`** (colon) is what separates the start and stop indices.\n",
    "\n",
    "Here's an example:"
   ]
  },
  {
   "cell_type": "code",
   "execution_count": null,
   "metadata": {},
   "outputs": [],
   "source": [
    "numbers = [0, 1, 2, 3, 4, 5]\n",
    "slice_of_numbers = numbers[1:4]\n",
    "print(slice_of_numbers)"
   ]
  },
  {
   "cell_type": "markdown",
   "metadata": {},
   "source": [
    "This slice will give us `[1, 2, 3]`. Remember that:\n",
    "- The start index is included (`1` is at index 1).\n",
    "- The stop index is not included (`4` is at index 4, but it's not in the slice)."
   ]
  },
  {
   "cell_type": "markdown",
   "metadata": {},
   "source": [
    "### Shorthand slicing syntax\n",
    "\n",
    "When slicing in Python, we can omit either the start or stop indexes and Python will assume that we mean to start from the beginning or slice to the end of the sequence, respectively.\n",
    "\n",
    "#### Omitting the start index\n",
    "\n",
    "When we omit the start index, the slice will start from the beginning of the list or string.\n",
    "\n",
    "For example:"
   ]
  },
  {
   "cell_type": "code",
   "execution_count": null,
   "metadata": {},
   "outputs": [],
   "source": [
    "numbers = [0, 1, 2, 3, 4, 5, 6, 7, 8, 9]\n",
    "first_five = numbers[:5]  # [0, 1, 2, 3, 4]\n",
    "print(first_five)"
   ]
  },
  {
   "cell_type": "markdown",
   "metadata": {},
   "source": [
    "#### Omitting the stop index\n",
    "\n",
    "When we omit the stop index, the slice will go all the way to the end of the list or string.\n",
    "\n",
    "For example:"
   ]
  },
  {
   "cell_type": "code",
   "execution_count": null,
   "metadata": {},
   "outputs": [],
   "source": [
    "numbers = [0, 1, 2, 3, 4, 5, 6, 7, 8, 9]\n",
    "last_five = numbers[5:]  # [5, 6, 7, 8, 9]\n",
    "print(last_five)"
   ]
  },
  {
   "cell_type": "markdown",
   "metadata": {},
   "source": [
    "### Omitting both\n",
    "\n",
    "Omitting both start and stop indexes will effectively make a copy of the list or string.\n",
    "\n",
    "See below:"
   ]
  },
  {
   "cell_type": "code",
   "execution_count": null,
   "metadata": {},
   "outputs": [],
   "source": [
    "numbers = [0, 1, 2, 3, 4, 5, 6, 7, 8, 9]\n",
    "copy_numbers = numbers[:] # [0, 1, 2, 3, 4, 5, 6, 7, 8, 9]\n",
    "print(copy_numbers)"
   ]
  },
  {
   "cell_type": "markdown",
   "metadata": {},
   "source": [
    "Slicing works on both lists and strings.\n",
    "\n",
    "Here's an example of slicing a string:"
   ]
  },
  {
   "cell_type": "code",
   "execution_count": null,
   "metadata": {},
   "outputs": [],
   "source": [
    "word = \"Python\"\n",
    "slice_of_word = word[1:4]\n",
    "print(slice_of_word)"
   ]
  },
  {
   "cell_type": "markdown",
   "metadata": {},
   "source": [
    "You may have noticed that when we slice a list or a string, the result is always of the same type. When we slice a string, we get a new string as the result. Similarly, when we slice a list, the result is a new list."
   ]
  },
  {
   "cell_type": "markdown",
   "metadata": {},
   "source": [
    "## Advanced Slicing\n",
    "\n",
    "Slicing in Python is not just limited to selecting a continuous segment from start to stop. It can be much more nuanced with the use of **negative indexes** and **steps**, which provide greater flexibility in selecting a range of elements."
   ]
  },
  {
   "cell_type": "markdown",
   "metadata": {},
   "source": [
    "### Negative indexing\n",
    "\n",
    "Python allows negative indexing for its sequences. The index of -1 refers to the last item, -2 to the second last item and so on.\n",
    "\n",
    "For example:"
   ]
  },
  {
   "cell_type": "code",
   "execution_count": null,
   "metadata": {},
   "outputs": [],
   "source": [
    "numbers = [0, 1, 2, 3, 4, 5]\n",
    "print(numbers[-1])"
   ]
  },
  {
   "cell_type": "markdown",
   "metadata": {},
   "source": [
    "### Combining positive and negative indexing\n",
    "\n",
    "We can mix positive and negative indexes while slicing. This can be useful for slicing off the ends of a list or string.\n",
    "\n",
    "Here's an example:"
   ]
  },
  {
   "cell_type": "code",
   "execution_count": null,
   "metadata": {},
   "outputs": [],
   "source": [
    "my_string = \"abcdefgh\"\n",
    "middle_slice = my_string[2:-2]  # 'cdef' (from 3rd to the second last character (not included))\n",
    "print(middle_slice)"
   ]
  },
  {
   "cell_type": "markdown",
   "metadata": {},
   "source": [
    "### Step in slicing\n",
    "\n",
    "The slice syntax includes a third parameter, called **step**, which allows us to take every nth-item within a start:stop range.\n",
    "\n",
    "See below:"
   ]
  },
  {
   "cell_type": "code",
   "execution_count": null,
   "metadata": {},
   "outputs": [],
   "source": [
    "numbers= [0, 1, 2, 3, 4, 5, 6, 7, 8, 9]\n",
    "even_numbers = numbers[::2]  # [0, 2, 4, 6, 8]\n",
    "odd_numbers = numbers[1::2]  # [1, 3, 5, 7, 9]\n",
    "print(even_numbers)\n",
    "print(odd_numbers)"
   ]
  },
  {
   "cell_type": "markdown",
   "metadata": {},
   "source": [
    "The step value can also be negative, which means that we can traverse the list or string backwards.\n",
    "\n",
    "For example:"
   ]
  },
  {
   "cell_type": "code",
   "execution_count": null,
   "metadata": {},
   "outputs": [],
   "source": [
    "numbers= [0, 1, 2, 3, 4, 5, 6, 7, 8, 9]\n",
    "reverse_odds = numbers[-1::-2]  # [9, 7, 5, 3, 1]\n",
    "print(reverse_odds)"
   ]
  }
 ],
 "metadata": {
  "kernelspec": {
   "display_name": "Python 3",
   "language": "python",
   "name": "python3"
  },
  "language_info": {
   "codemirror_mode": {
    "name": "ipython",
    "version": 3
   },
   "file_extension": ".py",
   "mimetype": "text/x-python",
   "name": "python",
   "nbconvert_exporter": "python",
   "pygments_lexer": "ipython3",
   "version": "3.12.0"
  }
 },
 "nbformat": 4,
 "nbformat_minor": 2
}
