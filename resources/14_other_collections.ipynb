{
 "cells": [
  {
   "cell_type": "markdown",
   "metadata": {},
   "source": [
    "# Tuples and Sets in Python"
   ]
  },
  {
   "cell_type": "markdown",
   "metadata": {},
   "source": [
    "## What is a Tuple?\n",
    "\n",
    "A tuple is an **ordered** and **unchangeable** collection of items. Tuples are similar to lists, but the key difference is that tuples are immutable. This means that once a tuple is created, the items in it cannot be changed."
   ]
  },
  {
   "cell_type": "markdown",
   "metadata": {},
   "source": [
    "## Why Use Tuples?\n",
    "\n",
    "Tuples are used when we have a collection of items that we want to keep together and unmodified throughout the life of a program. They can be faster than lists and protect your data against accidental change."
   ]
  },
  {
   "cell_type": "markdown",
   "metadata": {},
   "source": [
    "## Tuple Syntax\n",
    "\n",
    "A tuple is created by placing all the items inside parentheses `()`, separated by commas."
   ]
  },
  {
   "cell_type": "code",
   "execution_count": null,
   "metadata": {},
   "outputs": [],
   "source": [
    "my_tuple = (1, 2, 3)\n",
    "print(my_tuple)"
   ]
  },
  {
   "cell_type": "markdown",
   "metadata": {},
   "source": [
    "If we wish to store a single element in a tuple, we need to include a comma after the item, even though there is only one value."
   ]
  },
  {
   "cell_type": "code",
   "execution_count": null,
   "metadata": {},
   "outputs": [],
   "source": [
    "my_tuple = (1)\n",
    "print(type(my_tuple)) # Outputs: <class 'int'>\n",
    "\n",
    "my_tuple = (1,)\n",
    "print(type(my_tuple)) # Outputs: <class 'tuple'>"
   ]
  },
  {
   "cell_type": "markdown",
   "metadata": {},
   "source": [
    "## Accessing Tuple Elements by Index\n",
    "\n",
    "Tuples, being ordered collections, allow us to access their elements using their index, just like we would with a list or a string. Each element in the tuple has a specific position assigned to it, starting from 0 for the first element."
   ]
  },
  {
   "cell_type": "code",
   "execution_count": null,
   "metadata": {},
   "outputs": [],
   "source": [
    "colours = (\"red\", \"yellow\", \"pink\", \"green\", \"orange\", \"purple\", \"blue\")\n",
    "\n",
    "first_colour = colours[0]\n",
    "last_colour = colours[-1]\n",
    "middle_colours = colours[2:5]\n",
    "\n",
    "print(first_colour)\n",
    "print(last_colour)\n",
    "print(middle_colours)"
   ]
  },
  {
   "cell_type": "markdown",
   "metadata": {},
   "source": [
    "## What is a Set?\n",
    "\n",
    "A set is an **unordered** collection of **unique** elements. Sets are useful when you need to ensure that there are no duplicates and when the order is not important."
   ]
  },
  {
   "cell_type": "code",
   "execution_count": null,
   "metadata": {},
   "outputs": [],
   "source": [
    "my_set = {\"red\", \"yellow\", \"pink\", \"green\", \"orange\", \"purple\", \"blue\"}\n",
    "print(my_set) # Check the ordering of the output."
   ]
  },
  {
   "cell_type": "markdown",
   "metadata": {},
   "source": [
    "## Using Sets to Remove Duplicates from a List\n",
    "\n",
    "One common use of a set in Python is to remove duplicate elements from a list. Since sets cannot have duplicate values, converting a list to a set automatically removes any repeated items."
   ]
  },
  {
   "cell_type": "code",
   "execution_count": null,
   "metadata": {},
   "outputs": [],
   "source": [
    "my_list = [1, 2, 2, 3, 3, 3, 4, 4, 4, 4]\n",
    "unique_values = set(my_list)\n",
    "unique_list = list(unique_values)\n",
    "\n",
    "print(unique_list)"
   ]
  }
 ],
 "metadata": {
  "kernelspec": {
   "display_name": "Python 3",
   "language": "python",
   "name": "python3"
  },
  "language_info": {
   "codemirror_mode": {
    "name": "ipython",
    "version": 3
   },
   "file_extension": ".py",
   "mimetype": "text/x-python",
   "name": "python",
   "nbconvert_exporter": "python",
   "pygments_lexer": "ipython3",
   "version": "3.12.0"
  }
 },
 "nbformat": 4,
 "nbformat_minor": 2
}
