{
 "cells": [
  {
   "cell_type": "markdown",
   "metadata": {},
   "source": [
    "# String Formatting in Python"
   ]
  },
  {
   "cell_type": "markdown",
   "metadata": {},
   "source": [
    "## What is String Formatting?\n",
    "\n",
    "String formatting is the process of inserting variables into a string. Instead of adding strings together to create a message, we place placeholders inside the string and fill them with variable values."
   ]
  },
  {
   "cell_type": "markdown",
   "metadata": {},
   "source": [
    "## Why Format Strings?\n",
    "\n",
    "Formatting is important because it lets us create dynamic and easy-to-read messages. It's cleaner than concatenation (joining strings together with `+`) and more powerful, allowing for complex substitutions and formatting options."
   ]
  },
  {
   "cell_type": "markdown",
   "metadata": {},
   "source": [
    "## The `.format()` Method\n",
    "\n",
    "The `.format()` method inserts the values of variables into a string. We use curly braces `{}` as placeholders where we want each variable to go."
   ]
  },
  {
   "cell_type": "code",
   "execution_count": null,
   "metadata": {},
   "outputs": [],
   "source": [
    "series = \"Re:Zero\"\n",
    "medium = \"light novel\"\n",
    "\n",
    "message = \"{} is my second favourite {} series.\"\n",
    "print(message.format(series, medium))"
   ]
  },
  {
   "cell_type": "markdown",
   "metadata": {},
   "source": [
    "Each `{}` gets replaced by the corresponding value passed in the `.format()` method, in order."
   ]
  },
  {
   "cell_type": "markdown",
   "metadata": {},
   "source": [
    "### Using Index Numbers\n",
    "\n",
    "We can also use index numbers inside the curly braces to refer to the position of the variables we want to insert."
   ]
  },
  {
   "cell_type": "code",
   "execution_count": null,
   "metadata": {},
   "outputs": [],
   "source": [
    "message = \"The {0} is {1}. The {0} is {2}, isn't it?\"\n",
    "print(message.format(\"moon\", \"bright\", \"beautiful\"))"
   ]
  },
  {
   "cell_type": "markdown",
   "metadata": {},
   "source": [
    "### Formatting with Different Data Types\n",
    "\n",
    "String formatting is not limited to strings. We can insert any data type into a string, including numbers, booleans, and even objects. When we do this, Python converts them to strings implicitly."
   ]
  },
  {
   "cell_type": "markdown",
   "metadata": {},
   "source": [
    "#### Formatting Numbers\n",
    "\n",
    "We can format numeric values like integers and floats within a string."
   ]
  },
  {
   "cell_type": "code",
   "execution_count": null,
   "metadata": {},
   "outputs": [],
   "source": [
    "age = 28\n",
    "height = 190.5\n",
    "info = \"Age: {}, Height: {}cm\"\n",
    "print(info.format(age, height))"
   ]
  },
  {
   "cell_type": "markdown",
   "metadata": {},
   "source": [
    "#### Formatting Booleans\n",
    "\n",
    "Boolean values (True and False) can also be formatted as strings."
   ]
  },
  {
   "cell_type": "code",
   "execution_count": null,
   "metadata": {},
   "outputs": [],
   "source": [
    "is_staff = True\n",
    "status = \"Staff? {}\"\n",
    "print(status.format(is_staff))"
   ]
  },
  {
   "cell_type": "markdown",
   "metadata": {},
   "source": [
    "## f-strings\n",
    "\n",
    "F-strings, introduced in Python 3.6, allow you to embed expressions inside string literals using curly braces. To use an f-string, simply place `f` before the opening quotation mark of your string.\n",
    "\n",
    "\n"
   ]
  },
  {
   "cell_type": "code",
   "execution_count": null,
   "metadata": {},
   "outputs": [],
   "source": [
    "name = input(\"Enter name: \")\n",
    "activity = \"learning Python\"\n",
    "message = f\"Hi, {name}! Are you enjoying {activity}?\"\n",
    "print(message)"
   ]
  },
  {
   "cell_type": "markdown",
   "metadata": {},
   "source": [
    "### Including Expressions\n",
    "\n",
    "With f-strings, we can include whole expressions that get evaluated at runtime."
   ]
  },
  {
   "cell_type": "code",
   "execution_count": null,
   "metadata": {},
   "outputs": [],
   "source": [
    "hours = 4\n",
    "report = f\"You've been coding for {hours * 60} minutes.\"\n",
    "print(report)\n"
   ]
  },
  {
   "cell_type": "markdown",
   "metadata": {},
   "source": [
    "We can also perform calculations or call functions directly:"
   ]
  },
  {
   "cell_type": "code",
   "execution_count": null,
   "metadata": {},
   "outputs": [],
   "source": [
    "print(f\"Hello, {input(\"Enter your name:\")}!\")"
   ]
  }
 ],
 "metadata": {
  "kernelspec": {
   "display_name": "Python 3",
   "language": "python",
   "name": "python3"
  },
  "language_info": {
   "codemirror_mode": {
    "name": "ipython",
    "version": 3
   },
   "file_extension": ".py",
   "mimetype": "text/x-python",
   "name": "python",
   "nbconvert_exporter": "python",
   "pygments_lexer": "ipython3",
   "version": "3.12.0"
  }
 },
 "nbformat": 4,
 "nbformat_minor": 2
}
